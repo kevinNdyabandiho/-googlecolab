{
  "nbformat": 4,
  "nbformat_minor": 0,
  "metadata": {
    "colab": {
      "provenance": [],
      "authorship_tag": "ABX9TyN8KtWoa74+LH3HHG+PGZWb",
      "include_colab_link": true
    },
    "kernelspec": {
      "name": "python3",
      "display_name": "Python 3"
    },
    "language_info": {
      "name": "python"
    }
  },
  "cells": [
    {
      "cell_type": "markdown",
      "metadata": {
        "id": "view-in-github",
        "colab_type": "text"
      },
      "source": [
        "<a href=\"https://colab.research.google.com/github/kevinNdyabandiho/-googlecolab/blob/master/NN(perceptron).ipynb\" target=\"_parent\"><img src=\"https://colab.research.google.com/assets/colab-badge.svg\" alt=\"Open In Colab\"/></a>"
      ]
    },
    {
      "cell_type": "code",
      "execution_count": 1,
      "metadata": {
        "id": "UgYdrYpEkFOV"
      },
      "outputs": [],
      "source": [
        "import numpy as np\n",
        "import tensorflow as tf"
      ]
    },
    {
      "cell_type": "code",
      "source": [
        "inputs = np.array([[0, 0], [0, 1], [1, 0], [1, 1]])\n",
        "targets = np.array([0, 1, 1, 0])"
      ],
      "metadata": {
        "id": "qQEPT6vWkPjh"
      },
      "execution_count": 2,
      "outputs": []
    },
    {
      "cell_type": "markdown",
      "source": [
        "#### OOP"
      ],
      "metadata": {
        "id": "OQRb_ZUnkStc"
      }
    },
    {
      "cell_type": "code",
      "source": [
        "class Perceptron:\n",
        "    def __init__ (self, num_inputs, lr = 0.1):\n",
        "        self.weights = np.zeros(num_inputs)\n",
        "        self.bias = 0\n",
        "        self.lr = lr\n",
        "\n",
        "    def predict(self, inputs):\n",
        "        weighted_sum = np.dot(inputs, self.weights) + self.bias\n",
        "        output = 1 if weighted_sum > 0 else 0\n",
        "        return output"
      ],
      "metadata": {
        "id": "slC6Ms6okSFJ"
      },
      "execution_count": 3,
      "outputs": []
    },
    {
      "cell_type": "code",
      "source": [
        "perceptron = Perceptron(num_inputs = 2, lr = 0.1)"
      ],
      "metadata": {
        "id": "byu4021FkY-c"
      },
      "execution_count": 4,
      "outputs": []
    },
    {
      "cell_type": "code",
      "source": [
        "for _ in range(100):\n",
        "    for input_data, target in zip(inputs, targets):\n",
        "        pred = perceptron.predict(input_data)\n",
        "        error = target - pred\n",
        "        perceptron.weights += perceptron.lr * error * input_data\n",
        "        perceptron.bias += perceptron.lr * error"
      ],
      "metadata": {
        "id": "I2NW78orkcdN"
      },
      "execution_count": 5,
      "outputs": []
    },
    {
      "cell_type": "code",
      "source": [
        "print(\"inputs\\t\\toutput\")     # 0, 1, 1, 0\n",
        "for input_data in inputs:\n",
        "    prediction = perceptron.predict(input_data)\n",
        "    print(f\"{input_data}\\t\\t{prediction}\")"
      ],
      "metadata": {
        "colab": {
          "base_uri": "https://localhost:8080/"
        },
        "id": "Db_IShBmkgZM",
        "outputId": "924724c3-5f79-43c7-e50b-bf6a6de5b515"
      },
      "execution_count": 6,
      "outputs": [
        {
          "output_type": "stream",
          "name": "stdout",
          "text": [
            "inputs\t\toutput\n",
            "[0 0]\t\t1\n",
            "[0 1]\t\t1\n",
            "[1 0]\t\t0\n",
            "[1 1]\t\t0\n"
          ]
        }
      ]
    },
    {
      "cell_type": "markdown",
      "source": [
        "#### MLP (LSTM)"
      ],
      "metadata": {
        "id": "LaWhkAZzkswt"
      }
    },
    {
      "cell_type": "code",
      "source": [
        "from keras.engine.training import optimizer\n",
        "\n",
        "inputs = np.reshape(inputs, (inputs.shape[0], inputs.shape[1], 1))\n",
        "\n",
        "mlp = tf.keras.Sequential([\n",
        "    tf.keras.layers.LSTM(units = 4, input_shape = (2, 1)),\n",
        "    tf.keras.layers.Dense(units = 1, activation='sigmoid')\n",
        "])\n",
        "\n",
        "mlp.compile(optimizer = 'adam', loss = 'binary_crossentropy', metrics = ['accuracy'])\n",
        "\n",
        "mlp.fit(inputs, targets, epochs = 1000, verbose = 0)"
      ],
      "metadata": {
        "colab": {
          "base_uri": "https://localhost:8080/"
        },
        "id": "PLwNuzkZkrnr",
        "outputId": "97aa1485-550f-4c12-a57f-8e2f550462fb"
      },
      "execution_count": 8,
      "outputs": [
        {
          "output_type": "execute_result",
          "data": {
            "text/plain": [
              "<keras.callbacks.History at 0x7fb7c820aad0>"
            ]
          },
          "metadata": {},
          "execution_count": 8
        }
      ]
    },
    {
      "cell_type": "code",
      "source": [
        "pred = mlp.predict(inputs)\n",
        "pred = np.round(pred).flatten()"
      ],
      "metadata": {
        "colab": {
          "base_uri": "https://localhost:8080/"
        },
        "id": "3pxet0P5mRqJ",
        "outputId": "269b05ba-5d19-47d3-ca1d-d672de9c10af"
      },
      "execution_count": 9,
      "outputs": [
        {
          "output_type": "stream",
          "name": "stdout",
          "text": [
            "1/1 [==============================] - 0s 452ms/step\n"
          ]
        }
      ]
    },
    {
      "cell_type": "code",
      "source": [
        "print(\"Input \\t\\tOutput\")\n",
        "for input_data, pred_o in zip(inputs, pred):\n",
        "    print(f\"{input_data}\\t\\t{int(pred_o)}\")"
      ],
      "metadata": {
        "colab": {
          "base_uri": "https://localhost:8080/"
        },
        "id": "yNB-UJC0ncxN",
        "outputId": "2aa6456c-6816-4828-c015-59e411b69495"
      },
      "execution_count": 10,
      "outputs": [
        {
          "output_type": "stream",
          "name": "stdout",
          "text": [
            "Input \t\tOutput\n",
            "[[0]\n",
            " [0]]\t\t0\n",
            "[[0]\n",
            " [1]]\t\t1\n",
            "[[1]\n",
            " [0]]\t\t1\n",
            "[[1]\n",
            " [1]]\t\t0\n"
          ]
        }
      ]
    }
  ]
}