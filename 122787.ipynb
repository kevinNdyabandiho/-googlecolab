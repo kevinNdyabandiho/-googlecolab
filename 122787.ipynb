{
  "nbformat": 4,
  "nbformat_minor": 0,
  "metadata": {
    "colab": {
      "provenance": [],
      "authorship_tag": "ABX9TyP0masHkc0XmAQEfZvVZK+c",
      "include_colab_link": true
    },
    "kernelspec": {
      "name": "python3",
      "display_name": "Python 3"
    },
    "language_info": {
      "name": "python"
    }
  },
  "cells": [
    {
      "cell_type": "markdown",
      "metadata": {
        "id": "view-in-github",
        "colab_type": "text"
      },
      "source": [
        "<a href=\"https://colab.research.google.com/github/kevinNdyabandiho/-googlecolab/blob/master/122787.ipynb\" target=\"_parent\"><img src=\"https://colab.research.google.com/assets/colab-badge.svg\" alt=\"Open In Colab\"/></a>"
      ]
    },
    {
      "cell_type": "code",
      "execution_count": null,
      "metadata": {
        "id": "n6p1V_sjkII-"
      },
      "outputs": [],
      "source": [
        "import numpy as np"
      ]
    },
    {
      "cell_type": "code",
      "source": [
        "np.random.seed(42)"
      ],
      "metadata": {
        "id": "QMoZBupEkt1f"
      },
      "execution_count": null,
      "outputs": []
    },
    {
      "cell_type": "code",
      "source": [
        "x = np.random.uniform(low=0, high=10, size=200)"
      ],
      "metadata": {
        "id": "efESmcwxk23V"
      },
      "execution_count": null,
      "outputs": []
    },
    {
      "cell_type": "code",
      "source": [
        "slope = 2.5\n",
        "intercept = 5\n",
        "noise = np.random.normal(loc=0, scale=2, size=200)\n",
        "y = slope * x + intercept + noise"
      ],
      "metadata": {
        "id": "acTj1LJhk7AP"
      },
      "execution_count": null,
      "outputs": []
    },
    {
      "cell_type": "code",
      "source": [
        "learning_rate = 0.001\n",
        "num_iterations = 1000"
      ],
      "metadata": {
        "id": "0AlivPJElCZ0"
      },
      "execution_count": null,
      "outputs": []
    },
    {
      "cell_type": "code",
      "source": [
        "#perform gradient descent\n",
        "mse_values = []\n",
        "slope_values = []\n",
        "bias_values = []"
      ],
      "metadata": {
        "id": "geBtMCeElD1Q"
      },
      "execution_count": null,
      "outputs": []
    },
    {
      "cell_type": "code",
      "source": [
        "slope_current = 0\n",
        "bias_current = 0"
      ],
      "metadata": {
        "id": "6rE0f86UlSKb"
      },
      "execution_count": null,
      "outputs": []
    },
    {
      "cell_type": "code",
      "source": [
        "# Gradient descent\n",
        "for iteration in range(num_iterations):\n",
        "    y_predicted = slope_current * x + bias_current\n",
        "    error = y_predicted - y\n",
        "\n",
        "    # Calculate gradients\n",
        "    slope_gradient = 2 * np.mean(error * x)\n",
        "    bias_gradient = 2 * np.mean(error)\n",
        "\n",
        "    # Update parameters\n",
        "    slope_current -= learning_rate * slope_gradient\n",
        "    bias_current -= learning_rate * bias_gradient\n",
        "\n",
        "    # Calculate Mean Squared Error (MSE)\n",
        "    mse = np.mean((y_predicted - y) ** 2)\n",
        "\n",
        "    # Store values\n",
        "    mse_values.append(mse)\n",
        "    slope_values.append(slope_current)\n",
        "    bias_values.append(bias_current)"
      ],
      "metadata": {
        "id": "3Akzi6JslTzr"
      },
      "execution_count": null,
      "outputs": []
    },
    {
      "cell_type": "code",
      "source": [
        "optimal_index = np.argmin(mse_values)\n",
        "optimal_slope = slope_values[optimal_index]\n",
        "optimal_bias = bias_values[optimal_index]"
      ],
      "metadata": {
        "id": "KbU0L0fxlnrA"
      },
      "execution_count": null,
      "outputs": []
    },
    {
      "cell_type": "code",
      "source": [
        "# Return optimal slope, bias, and MSE values\n",
        "optimal_values = {\n",
        "    \"slope\": optimal_slope,\n",
        "    \"bias\": optimal_bias,\n",
        "    \"mse\": mse_values[optimal_index]\n",
        "}\n",
        "\n",
        "print(\"Optimal values:\", optimal_values)"
      ],
      "metadata": {
        "colab": {
          "base_uri": "https://localhost:8080/"
        },
        "id": "h0g8R0mxlsEY",
        "outputId": "99c09466-9609-493a-eaca-2b865ed7cc6f"
      },
      "execution_count": null,
      "outputs": [
        {
          "output_type": "stream",
          "name": "stdout",
          "text": [
            "Optimal values: {'slope': 2.908380140823428, 'bias': 2.4233637798939593, 'mse': 5.833055613339972}\n"
          ]
        }
      ]
    }
  ]
}