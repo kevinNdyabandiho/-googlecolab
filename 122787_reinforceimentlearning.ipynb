{
  "nbformat": 4,
  "nbformat_minor": 0,
  "metadata": {
    "colab": {
      "provenance": [],
      "authorship_tag": "ABX9TyOLOQ/EYNbnCcdR/VFNz3LH",
      "include_colab_link": true
    },
    "kernelspec": {
      "name": "python3",
      "display_name": "Python 3"
    },
    "language_info": {
      "name": "python"
    }
  },
  "cells": [
    {
      "cell_type": "markdown",
      "metadata": {
        "id": "view-in-github",
        "colab_type": "text"
      },
      "source": [
        "<a href=\"https://colab.research.google.com/github/kevinNdyabandiho/-googlecolab/blob/master/122787_reinforceimentlearning.ipynb\" target=\"_parent\"><img src=\"https://colab.research.google.com/assets/colab-badge.svg\" alt=\"Open In Colab\"/></a>"
      ]
    },
    {
      "cell_type": "code",
      "execution_count": null,
      "metadata": {
        "id": "5GXN69idSD0T"
      },
      "outputs": [],
      "source": [
        "import numpy as np\n",
        "import matplotlib.pyplot as plt\n",
        "\n",
        "import warnings\n",
        "warnings.filterwarnings('ignore')"
      ]
    },
    {
      "cell_type": "code",
      "source": [
        "def print_map(array):\n",
        "    plt.imshow(array, cmap='hot', vmin = np.min(array), vmax = np.max(array))\n",
        "    plt.show()"
      ],
      "metadata": {
        "id": "sDGDdsKYSRUf"
      },
      "execution_count": null,
      "outputs": []
    },
    {
      "cell_type": "code",
      "source": [
        "## Env\n",
        "e_rows = 11\n",
        "e_cols = 11\n",
        "\n",
        "q_values = np.zeros((e_rows, e_cols, 4))\n",
        "\n",
        "actions = ['up', 'right', 'down', 'left']\n",
        "\n",
        "rewards = np.full((e_rows, e_cols), -100)\n",
        "rewards[0, 5] = 100"
      ],
      "metadata": {
        "id": "dz8qT95LSUg7"
      },
      "execution_count": null,
      "outputs": []
    },
    {
      "cell_type": "code",
      "source": [
        "aisles = {}\n",
        "\n",
        "aisles[1] = [i for i in range(1, 10)]\n",
        "aisles[2] = [1, 7, 9]\n",
        "aisles[3] = [i for i in range(1, 8)]\n",
        "aisles[3].append(9)\n",
        "aisles[4] = [3, 7]\n",
        "aisles[5] =  [i for i in range(11)]\n",
        "aisles[6] = [5]\n",
        "aisles[7] = [i for i in range(1, 10)]\n",
        "aisles[8] = [3, 7]\n",
        "aisles[9] = [i for i in range(11)]\n",
        "\n",
        "\n",
        "for row_index in range(1, 10):\n",
        "    for col_index in aisles[row_index]:\n",
        "        rewards[row_index][col_index] = -1"
      ],
      "metadata": {
        "id": "oGhBPzs6SXlr"
      },
      "execution_count": null,
      "outputs": []
    },
    {
      "cell_type": "code",
      "source": [
        "# Training\n",
        "def is_terminal_state(cur_row_index, cur_col_index):\n",
        "    if rewards[cur_row_index, cur_col_index] == -1:\n",
        "        return False\n",
        "    else:\n",
        "        return True\n",
        "\n",
        "def get_start_loc():\n",
        "    cur_row_index = np.random.randint(e_rows)\n",
        "    cur_col_index = np.random.randint(e_cols)\n",
        "\n",
        "    while is_terminal_state(cur_row_index, cur_col_index):\n",
        "        cur_row_index = np.random.randint(e_rows)\n",
        "        cur_col_index = np.random.randint(e_cols)\n",
        "\n",
        "    return cur_row_index, cur_col_index\n",
        "\n",
        "def get_next_act(cur_row_index, cur_col_index, epsilon):\n",
        "    if np.random.random() < epsilon:\n",
        "        return np.argmax(q_values[cur_row_index, cur_col_index])\n",
        "    else:\n",
        "        return np.random.randint(4)\n",
        "\n",
        "def get_next_loc(cur_row_index, cur_col_index, action_index):\n",
        "    new_row_index = cur_row_index\n",
        "    new_col_index = cur_col_index\n",
        "\n",
        "    if actions[action_index] == 'up' and cur_row_index > 0:\n",
        "        new_row_index -= 1\n",
        "    elif actions[action_index] == 'right' and cur_col_index < e_cols -1:\n",
        "        new_col_index += 1\n",
        "    elif actions[action_index] == 'down' and cur_row_index < e_rows - 1:\n",
        "        new_row_index += 1\n",
        "    elif actions[action_index] == 'left' and cur_col_index > 0:\n",
        "        new_col_index -= 1\n",
        "\n",
        "    return new_row_index, new_col_index\n",
        "\n",
        "def get_shortest_path(start_row, start_col):\n",
        "    if is_terminal_state(start_row, start_col):\n",
        "        return []\n",
        "\n",
        "    else:\n",
        "        cur_row_index, cur_col_index = start_row, start_col\n",
        "        path = []\n",
        "\n",
        "        path.append([cur_row_index, cur_col_index])\n",
        "\n",
        "        while not is_terminal_state(cur_row_index, cur_col_index):\n",
        "            action_index = get_next_act(cur_row_index, cur_col_index, 1)\n",
        "\n",
        "            cur_row_index, cur_col_index = get_next_loc(cur_row_index, cur_col_index, action_index)\n",
        "\n",
        "            path.append([cur_row_index, cur_col_index])\n",
        "\n",
        "        return path\n",
        "\n"
      ],
      "metadata": {
        "id": "h0wuPTBhZF3O"
      },
      "execution_count": null,
      "outputs": []
    },
    {
      "cell_type": "code",
      "source": [
        "epsilon = 0.9\n",
        "df = 0.9\n",
        "lr = 0.9"
      ],
      "metadata": {
        "id": "4o-6Rk9rdNrc"
      },
      "execution_count": null,
      "outputs": []
    },
    {
      "cell_type": "code",
      "source": [
        "for episode in range(1000):\n",
        "  row_index, col_index = get_start_loc()\n",
        "\n",
        "  while not is_terminal_state(row_index, col_index):\n",
        "    action_index = get_next_act(row_index, col_index, epsilon)\n",
        "    old_row_index, old_col_index = row_index, col_index\n",
        "    row_index, col_index = get_next_loc(row_index, col_index, action_index)\n",
        "\n",
        "    reward = rewards[row_index, col_index]\n",
        "\n",
        "    old_q_value = q_values[row_index, col_index, action_index]\n",
        "\n",
        "    td = reward + (df * np.max(q_values[row_index, col_index])) - old_q_value\n",
        "\n",
        "    new_q_value = old_q_value + (td * lr)\n",
        "\n",
        "    q_values[old_row_index, old_col_index, action_index] = new_q_value\n",
        "\n",
        "print('Complete')"
      ],
      "metadata": {
        "colab": {
          "base_uri": "https://localhost:8080/"
        },
        "id": "JgklBDpJeHC2",
        "outputId": "9d52200f-039a-4c41-f537-23064159a221"
      },
      "execution_count": null,
      "outputs": [
        {
          "output_type": "stream",
          "name": "stdout",
          "text": [
            "Complete\n"
          ]
        }
      ]
    },
    {
      "cell_type": "code",
      "source": [
        "print_map(rewards)"
      ],
      "metadata": {
        "colab": {
          "base_uri": "https://localhost:8080/",
          "height": 430
        },
        "id": "IFBIeJbvk_s9",
        "outputId": "eb38e8aa-2048-482d-8b72-44de12151d23"
      },
      "execution_count": null,
      "outputs": [
        {
          "output_type": "display_data",
          "data": {
            "text/plain": [
              "<Figure size 640x480 with 1 Axes>"
            ],
            "image/png": "[encoded data removed]"
          },
          "metadata": {}
        }
      ]
    },
    {
      "cell_type": "code",
      "source": [
        "print(get_shortest_path(7,5))"
      ],
      "metadata": {
        "colab": {
          "base_uri": "https://localhost:8080/"
        },
        "id": "sO5wGstRk1xm",
        "outputId": "d1bd5796-b073-4cd3-e9b3-a30cdd2d149c"
      },
      "execution_count": null,
      "outputs": [
        {
          "output_type": "stream",
          "name": "stdout",
          "text": [
            "[[7, 5], [6, 5], [5, 5], [5, 6], [5, 7], [4, 7], [3, 7], [3, 6], [3, 5], [3, 4], [3, 3], [3, 2], [3, 1], [2, 1], [1, 1], [1, 2], [1, 3], [1, 4], [1, 5], [0, 5]]\n"
          ]
        }
      ]
    },
    {
      "cell_type": "code",
      "source": [
        "print_map(q_values)"
      ],
      "metadata": {
        "colab": {
          "base_uri": "https://localhost:8080/",
          "height": 467
        },
        "id": "FqR7qlEzliU2",
        "outputId": "d3490bb9-4963-4bbf-9946-7bbf7a13b102"
      },
      "execution_count": null,
      "outputs": [
        {
          "output_type": "stream",
          "name": "stderr",
          "text": [
            "WARNING:matplotlib.image:Clipping input data to the valid range for imshow with RGB data ([0..1] for floats or [0..255] for integers).\n"
          ]
        },
        {
          "output_type": "display_data",
          "data": {
            "text/plain": [
              "<Figure size 640x480 with 1 Axes>"
            ],
            "image/png": "[encoded data removed]"
          },
          "metadata": {}
        }
      ]
    }
  ]
}